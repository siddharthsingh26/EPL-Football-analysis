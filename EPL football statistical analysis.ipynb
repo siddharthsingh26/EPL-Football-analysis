{
 "cells": [
  {
   "cell_type": "code",
   "execution_count": 14,
   "id": "3391a463",
   "metadata": {},
   "outputs": [],
   "source": [
    "import pandas as pd\n",
    "import numpy as np\n",
    "import matplotlib.pyplot as plt\n",
    "import seaborn as sns"
   ]
  },
  {
   "cell_type": "code",
   "execution_count": 15,
   "id": "1b2308c2",
   "metadata": {},
   "outputs": [],
   "source": [
    "data = pd.read_csv(r\"C:\\Users\\Sid\\Desktop\\vit\\DataScience Projects\\EPL football analysis\\Datasets\\final_dataset.csv\")\n"
   ]
  },
  {
   "cell_type": "code",
   "execution_count": 16,
   "id": "f8a51958",
   "metadata": {},
   "outputs": [
    {
     "data": {
      "text/html": [
       "<div>\n",
       "<style scoped>\n",
       "    .dataframe tbody tr th:only-of-type {\n",
       "        vertical-align: middle;\n",
       "    }\n",
       "\n",
       "    .dataframe tbody tr th {\n",
       "        vertical-align: top;\n",
       "    }\n",
       "\n",
       "    .dataframe thead th {\n",
       "        text-align: right;\n",
       "    }\n",
       "</style>\n",
       "<table border=\"1\" class=\"dataframe\">\n",
       "  <thead>\n",
       "    <tr style=\"text-align: right;\">\n",
       "      <th></th>\n",
       "      <th>Unnamed: 0</th>\n",
       "      <th>Date</th>\n",
       "      <th>HomeTeam</th>\n",
       "      <th>AwayTeam</th>\n",
       "      <th>FTHG</th>\n",
       "      <th>FTAG</th>\n",
       "      <th>FTR</th>\n",
       "      <th>HTGS</th>\n",
       "      <th>ATGS</th>\n",
       "      <th>HTGC</th>\n",
       "      <th>...</th>\n",
       "      <th>HTLossStreak3</th>\n",
       "      <th>HTLossStreak5</th>\n",
       "      <th>ATWinStreak3</th>\n",
       "      <th>ATWinStreak5</th>\n",
       "      <th>ATLossStreak3</th>\n",
       "      <th>ATLossStreak5</th>\n",
       "      <th>HTGD</th>\n",
       "      <th>ATGD</th>\n",
       "      <th>DiffPts</th>\n",
       "      <th>DiffFormPts</th>\n",
       "    </tr>\n",
       "  </thead>\n",
       "  <tbody>\n",
       "    <tr>\n",
       "      <th>0</th>\n",
       "      <td>0</td>\n",
       "      <td>19/08/00</td>\n",
       "      <td>Charlton</td>\n",
       "      <td>Man City</td>\n",
       "      <td>4</td>\n",
       "      <td>0</td>\n",
       "      <td>H</td>\n",
       "      <td>0</td>\n",
       "      <td>0</td>\n",
       "      <td>0</td>\n",
       "      <td>...</td>\n",
       "      <td>0</td>\n",
       "      <td>0</td>\n",
       "      <td>0</td>\n",
       "      <td>0</td>\n",
       "      <td>0</td>\n",
       "      <td>0</td>\n",
       "      <td>0.0</td>\n",
       "      <td>0.0</td>\n",
       "      <td>0.0</td>\n",
       "      <td>0.0</td>\n",
       "    </tr>\n",
       "    <tr>\n",
       "      <th>1</th>\n",
       "      <td>1</td>\n",
       "      <td>19/08/00</td>\n",
       "      <td>Chelsea</td>\n",
       "      <td>West Ham</td>\n",
       "      <td>4</td>\n",
       "      <td>2</td>\n",
       "      <td>H</td>\n",
       "      <td>0</td>\n",
       "      <td>0</td>\n",
       "      <td>0</td>\n",
       "      <td>...</td>\n",
       "      <td>0</td>\n",
       "      <td>0</td>\n",
       "      <td>0</td>\n",
       "      <td>0</td>\n",
       "      <td>0</td>\n",
       "      <td>0</td>\n",
       "      <td>0.0</td>\n",
       "      <td>0.0</td>\n",
       "      <td>0.0</td>\n",
       "      <td>0.0</td>\n",
       "    </tr>\n",
       "    <tr>\n",
       "      <th>2</th>\n",
       "      <td>2</td>\n",
       "      <td>19/08/00</td>\n",
       "      <td>Coventry</td>\n",
       "      <td>Middlesbrough</td>\n",
       "      <td>1</td>\n",
       "      <td>3</td>\n",
       "      <td>NH</td>\n",
       "      <td>0</td>\n",
       "      <td>0</td>\n",
       "      <td>0</td>\n",
       "      <td>...</td>\n",
       "      <td>0</td>\n",
       "      <td>0</td>\n",
       "      <td>0</td>\n",
       "      <td>0</td>\n",
       "      <td>0</td>\n",
       "      <td>0</td>\n",
       "      <td>0.0</td>\n",
       "      <td>0.0</td>\n",
       "      <td>0.0</td>\n",
       "      <td>0.0</td>\n",
       "    </tr>\n",
       "    <tr>\n",
       "      <th>3</th>\n",
       "      <td>3</td>\n",
       "      <td>19/08/00</td>\n",
       "      <td>Derby</td>\n",
       "      <td>Southampton</td>\n",
       "      <td>2</td>\n",
       "      <td>2</td>\n",
       "      <td>NH</td>\n",
       "      <td>0</td>\n",
       "      <td>0</td>\n",
       "      <td>0</td>\n",
       "      <td>...</td>\n",
       "      <td>0</td>\n",
       "      <td>0</td>\n",
       "      <td>0</td>\n",
       "      <td>0</td>\n",
       "      <td>0</td>\n",
       "      <td>0</td>\n",
       "      <td>0.0</td>\n",
       "      <td>0.0</td>\n",
       "      <td>0.0</td>\n",
       "      <td>0.0</td>\n",
       "    </tr>\n",
       "    <tr>\n",
       "      <th>4</th>\n",
       "      <td>4</td>\n",
       "      <td>19/08/00</td>\n",
       "      <td>Leeds</td>\n",
       "      <td>Everton</td>\n",
       "      <td>2</td>\n",
       "      <td>0</td>\n",
       "      <td>H</td>\n",
       "      <td>0</td>\n",
       "      <td>0</td>\n",
       "      <td>0</td>\n",
       "      <td>...</td>\n",
       "      <td>0</td>\n",
       "      <td>0</td>\n",
       "      <td>0</td>\n",
       "      <td>0</td>\n",
       "      <td>0</td>\n",
       "      <td>0</td>\n",
       "      <td>0.0</td>\n",
       "      <td>0.0</td>\n",
       "      <td>0.0</td>\n",
       "      <td>0.0</td>\n",
       "    </tr>\n",
       "  </tbody>\n",
       "</table>\n",
       "<p>5 rows × 40 columns</p>\n",
       "</div>"
      ],
      "text/plain": [
       "   Unnamed: 0      Date  HomeTeam       AwayTeam  FTHG  FTAG FTR  HTGS  ATGS  \\\n",
       "0           0  19/08/00  Charlton       Man City     4     0   H     0     0   \n",
       "1           1  19/08/00   Chelsea       West Ham     4     2   H     0     0   \n",
       "2           2  19/08/00  Coventry  Middlesbrough     1     3  NH     0     0   \n",
       "3           3  19/08/00     Derby    Southampton     2     2  NH     0     0   \n",
       "4           4  19/08/00     Leeds        Everton     2     0   H     0     0   \n",
       "\n",
       "   HTGC  ...  HTLossStreak3  HTLossStreak5  ATWinStreak3 ATWinStreak5  \\\n",
       "0     0  ...              0              0             0            0   \n",
       "1     0  ...              0              0             0            0   \n",
       "2     0  ...              0              0             0            0   \n",
       "3     0  ...              0              0             0            0   \n",
       "4     0  ...              0              0             0            0   \n",
       "\n",
       "  ATLossStreak3 ATLossStreak5 HTGD ATGD DiffPts DiffFormPts  \n",
       "0             0             0  0.0  0.0     0.0         0.0  \n",
       "1             0             0  0.0  0.0     0.0         0.0  \n",
       "2             0             0  0.0  0.0     0.0         0.0  \n",
       "3             0             0  0.0  0.0     0.0         0.0  \n",
       "4             0             0  0.0  0.0     0.0         0.0  \n",
       "\n",
       "[5 rows x 40 columns]"
      ]
     },
     "execution_count": 16,
     "metadata": {},
     "output_type": "execute_result"
    }
   ],
   "source": [
    "data.head()"
   ]
  },
  {
   "cell_type": "code",
   "execution_count": 17,
   "id": "782878f0",
   "metadata": {},
   "outputs": [
    {
     "data": {
      "text/html": [
       "<div>\n",
       "<style scoped>\n",
       "    .dataframe tbody tr th:only-of-type {\n",
       "        vertical-align: middle;\n",
       "    }\n",
       "\n",
       "    .dataframe tbody tr th {\n",
       "        vertical-align: top;\n",
       "    }\n",
       "\n",
       "    .dataframe thead th {\n",
       "        text-align: right;\n",
       "    }\n",
       "</style>\n",
       "<table border=\"1\" class=\"dataframe\">\n",
       "  <thead>\n",
       "    <tr style=\"text-align: right;\">\n",
       "      <th></th>\n",
       "      <th>Unnamed: 0</th>\n",
       "      <th>Date</th>\n",
       "      <th>HomeTeam</th>\n",
       "      <th>AwayTeam</th>\n",
       "      <th>FTHG</th>\n",
       "      <th>FTAG</th>\n",
       "      <th>FTR</th>\n",
       "      <th>HTGS</th>\n",
       "      <th>ATGS</th>\n",
       "      <th>HTGC</th>\n",
       "      <th>...</th>\n",
       "      <th>HTLossStreak3</th>\n",
       "      <th>HTLossStreak5</th>\n",
       "      <th>ATWinStreak3</th>\n",
       "      <th>ATWinStreak5</th>\n",
       "      <th>ATLossStreak3</th>\n",
       "      <th>ATLossStreak5</th>\n",
       "      <th>HTGD</th>\n",
       "      <th>ATGD</th>\n",
       "      <th>DiffPts</th>\n",
       "      <th>DiffFormPts</th>\n",
       "    </tr>\n",
       "  </thead>\n",
       "  <tbody>\n",
       "    <tr>\n",
       "      <th>6835</th>\n",
       "      <td>6835</td>\n",
       "      <td>13/05/18</td>\n",
       "      <td>Newcastle</td>\n",
       "      <td>Chelsea</td>\n",
       "      <td>3</td>\n",
       "      <td>0</td>\n",
       "      <td>H</td>\n",
       "      <td>36</td>\n",
       "      <td>62</td>\n",
       "      <td>47</td>\n",
       "      <td>...</td>\n",
       "      <td>0</td>\n",
       "      <td>0</td>\n",
       "      <td>1</td>\n",
       "      <td>0</td>\n",
       "      <td>0</td>\n",
       "      <td>0</td>\n",
       "      <td>-0.289474</td>\n",
       "      <td>0.710526</td>\n",
       "      <td>-0.763158</td>\n",
       "      <td>-0.263158</td>\n",
       "    </tr>\n",
       "    <tr>\n",
       "      <th>6836</th>\n",
       "      <td>6836</td>\n",
       "      <td>13/05/18</td>\n",
       "      <td>Southampton</td>\n",
       "      <td>Man City</td>\n",
       "      <td>0</td>\n",
       "      <td>1</td>\n",
       "      <td>NH</td>\n",
       "      <td>37</td>\n",
       "      <td>105</td>\n",
       "      <td>55</td>\n",
       "      <td>...</td>\n",
       "      <td>0</td>\n",
       "      <td>0</td>\n",
       "      <td>1</td>\n",
       "      <td>0</td>\n",
       "      <td>0</td>\n",
       "      <td>0</td>\n",
       "      <td>-0.473684</td>\n",
       "      <td>2.052632</td>\n",
       "      <td>-1.605263</td>\n",
       "      <td>-0.131579</td>\n",
       "    </tr>\n",
       "    <tr>\n",
       "      <th>6837</th>\n",
       "      <td>6837</td>\n",
       "      <td>13/05/18</td>\n",
       "      <td>Swansea</td>\n",
       "      <td>Stoke</td>\n",
       "      <td>1</td>\n",
       "      <td>2</td>\n",
       "      <td>NH</td>\n",
       "      <td>27</td>\n",
       "      <td>33</td>\n",
       "      <td>54</td>\n",
       "      <td>...</td>\n",
       "      <td>0</td>\n",
       "      <td>0</td>\n",
       "      <td>0</td>\n",
       "      <td>0</td>\n",
       "      <td>0</td>\n",
       "      <td>0</td>\n",
       "      <td>-0.710526</td>\n",
       "      <td>-0.894737</td>\n",
       "      <td>0.078947</td>\n",
       "      <td>-0.052632</td>\n",
       "    </tr>\n",
       "    <tr>\n",
       "      <th>6838</th>\n",
       "      <td>6838</td>\n",
       "      <td>13/05/18</td>\n",
       "      <td>Tottenham</td>\n",
       "      <td>Leicester</td>\n",
       "      <td>5</td>\n",
       "      <td>4</td>\n",
       "      <td>H</td>\n",
       "      <td>69</td>\n",
       "      <td>52</td>\n",
       "      <td>32</td>\n",
       "      <td>...</td>\n",
       "      <td>0</td>\n",
       "      <td>0</td>\n",
       "      <td>0</td>\n",
       "      <td>0</td>\n",
       "      <td>0</td>\n",
       "      <td>0</td>\n",
       "      <td>0.973684</td>\n",
       "      <td>-0.078947</td>\n",
       "      <td>0.710526</td>\n",
       "      <td>0.078947</td>\n",
       "    </tr>\n",
       "    <tr>\n",
       "      <th>6839</th>\n",
       "      <td>6839</td>\n",
       "      <td>13/05/18</td>\n",
       "      <td>West Ham</td>\n",
       "      <td>Everton</td>\n",
       "      <td>3</td>\n",
       "      <td>1</td>\n",
       "      <td>H</td>\n",
       "      <td>45</td>\n",
       "      <td>43</td>\n",
       "      <td>67</td>\n",
       "      <td>...</td>\n",
       "      <td>0</td>\n",
       "      <td>0</td>\n",
       "      <td>0</td>\n",
       "      <td>0</td>\n",
       "      <td>0</td>\n",
       "      <td>0</td>\n",
       "      <td>-0.578947</td>\n",
       "      <td>-0.315789</td>\n",
       "      <td>-0.263158</td>\n",
       "      <td>-0.105263</td>\n",
       "    </tr>\n",
       "  </tbody>\n",
       "</table>\n",
       "<p>5 rows × 40 columns</p>\n",
       "</div>"
      ],
      "text/plain": [
       "      Unnamed: 0      Date     HomeTeam   AwayTeam  FTHG  FTAG FTR  HTGS  \\\n",
       "6835        6835  13/05/18    Newcastle    Chelsea     3     0   H    36   \n",
       "6836        6836  13/05/18  Southampton   Man City     0     1  NH    37   \n",
       "6837        6837  13/05/18      Swansea      Stoke     1     2  NH    27   \n",
       "6838        6838  13/05/18    Tottenham  Leicester     5     4   H    69   \n",
       "6839        6839  13/05/18     West Ham    Everton     3     1   H    45   \n",
       "\n",
       "      ATGS  HTGC  ...  HTLossStreak3  HTLossStreak5  ATWinStreak3  \\\n",
       "6835    62    47  ...              0              0             1   \n",
       "6836   105    55  ...              0              0             1   \n",
       "6837    33    54  ...              0              0             0   \n",
       "6838    52    32  ...              0              0             0   \n",
       "6839    43    67  ...              0              0             0   \n",
       "\n",
       "     ATWinStreak5 ATLossStreak3 ATLossStreak5      HTGD      ATGD   DiffPts  \\\n",
       "6835            0             0             0 -0.289474  0.710526 -0.763158   \n",
       "6836            0             0             0 -0.473684  2.052632 -1.605263   \n",
       "6837            0             0             0 -0.710526 -0.894737  0.078947   \n",
       "6838            0             0             0  0.973684 -0.078947  0.710526   \n",
       "6839            0             0             0 -0.578947 -0.315789 -0.263158   \n",
       "\n",
       "     DiffFormPts  \n",
       "6835   -0.263158  \n",
       "6836   -0.131579  \n",
       "6837   -0.052632  \n",
       "6838    0.078947  \n",
       "6839   -0.105263  \n",
       "\n",
       "[5 rows x 40 columns]"
      ]
     },
     "execution_count": 17,
     "metadata": {},
     "output_type": "execute_result"
    }
   ],
   "source": [
    "data.tail()"
   ]
  },
  {
   "cell_type": "code",
   "execution_count": 18,
   "id": "ee934e61",
   "metadata": {},
   "outputs": [],
   "source": [
    "data['Result'] = np.where(data['FTHG'] > data['FTAG'], 'Win', np.where(data['FTHG'] < data['FTAG'], 'Loss', 'Draw'))\n"
   ]
  },
  {
   "cell_type": "code",
   "execution_count": 19,
   "id": "784334c2",
   "metadata": {},
   "outputs": [
    {
     "data": {
      "image/png": "[encoded data removed]",
      "text/plain": [
       "<Figure size 432x288 with 1 Axes>"
      ]
     },
     "metadata": {
      "needs_background": "light"
     },
     "output_type": "display_data"
    }
   ],
   "source": [
    "sns.countplot(x='Result', data=data)\n",
    "plt.show()"
   ]
  },
  {
   "cell_type": "code",
   "execution_count": 20,
   "id": "afcd7017",
   "metadata": {},
   "outputs": [],
   "source": [
    "home_goals = data.groupby('HomeTeam')['FTHG'].sum().reset_index()\n",
    "away_goals = data.groupby('AwayTeam')['FTAG'].sum().reset_index()\n",
    "goals = home_goals.merge(away_goals, left_on='HomeTeam', right_on='AwayTeam')\n",
    "goals['Total Goals'] = goals['FTHG'] + goals['FTAG']\n",
    "goals = goals[['HomeTeam', 'Total Goals']].rename(columns={'HomeTeam': 'Team'})"
   ]
  },
  {
   "cell_type": "code",
   "execution_count": 24,
   "id": "9197b2b3",
   "metadata": {},
   "outputs": [
    {
     "data": {
      "image/png": "[encoded data removed]",
      "text/plain": [
       "<Figure size 432x288 with 1 Axes>"
      ]
     },
     "metadata": {
      "needs_background": "light"
     },
     "output_type": "display_data"
    }
   ],
   "source": [
    "top_5 = goals.sort_values('Total Goals', ascending=False)[:5]\n",
    "sns.barplot(x='Team', y='Total Goals', data=top_5)\n",
    "plt.show()"
   ]
  },
  {
   "cell_type": "code",
   "execution_count": 30,
   "id": "42386518",
   "metadata": {},
   "outputs": [
    {
     "name": "stderr",
     "output_type": "stream",
     "text": [
      "C:\\Users\\Sid\\AppData\\Local\\Temp\\ipykernel_41312\\3534695702.py:2: FutureWarning: Indexing with multiple keys (implicitly converted to a tuple of keys) will be deprecated, use a list instead.\n",
      "  home_avg = data.groupby('HomeTeam')['FTHG', 'FTAG'].mean().reset_index().rename(columns={'FTHG': 'Home Goals', 'FTAG': 'Home Conceded'})\n",
      "C:\\Users\\Sid\\AppData\\Local\\Temp\\ipykernel_41312\\3534695702.py:3: FutureWarning: Indexing with multiple keys (implicitly converted to a tuple of keys) will be deprecated, use a list instead.\n",
      "  away_avg = data.groupby('AwayTeam')['FTAG', 'FTHG'].mean().reset_index().rename(columns={'FTAG': 'Away Goals', 'FTHG': 'Away Conceded'})\n"
     ]
    }
   ],
   "source": [
    "# Average number of goals scored and conceded by each team\n",
    "home_avg = data.groupby('HomeTeam')['FTHG', 'FTAG'].mean().reset_index().rename(columns={'FTHG': 'Home Goals', 'FTAG': 'Home Conceded'})\n",
    "away_avg = data.groupby('AwayTeam')['FTAG', 'FTHG'].mean().reset_index().rename(columns={'FTAG': 'Away Goals', 'FTHG': 'Away Conceded'})\n",
    "avg = home_avg.merge(away_avg, left_on='HomeTeam', right_on='AwayTeam')\n",
    "avg['Total Goals Scored'] = avg['Home Goals'] + avg['Away Goals']\n",
    "avg['Total Goals Conceded'] = avg['Home Conceded'] + avg['Away Conceded']\n",
    "avg = avg[['HomeTeam', 'Total Goals Scored', 'Total Goals Conceded']].rename(columns={'HomeTeam': 'Team'})\n"
   ]
  },
  {
   "cell_type": "code",
   "execution_count": 31,
   "id": "63bdfe70",
   "metadata": {},
   "outputs": [
    {
     "data": {
      "image/png": "[encoded data removed]",
      "text/plain": [
       "<Figure size 432x288 with 1 Axes>"
      ]
     },
     "metadata": {
      "needs_background": "light"
     },
     "output_type": "display_data"
    }
   ],
   "source": [
    "# Top 10 teams with the highest average number of goals scored\n",
    "top_5_avg = avg.sort_values('Total Goals Scored', ascending=False)[:5]\n",
    "sns.barplot(x='Team', y='Total Goals Scored', data=top_5_avg)\n",
    "plt.show()\n",
    "\n"
   ]
  },
  {
   "cell_type": "code",
   "execution_count": 32,
   "id": "fd64422e",
   "metadata": {},
   "outputs": [
    {
     "data": {
      "image/png": "[encoded data removed]",
      "text/plain": [
       "<Figure size 432x288 with 2 Axes>"
      ]
     },
     "metadata": {
      "needs_background": "light"
     },
     "output_type": "display_data"
    }
   ],
   "source": [
    "# Correlation matrix\n",
    "corr_matrix = data.corr()\n",
    "sns.heatmap(corr_matrix, cmap='coolwarm')\n",
    "plt.show()"
   ]
  },
  {
   "cell_type": "code",
   "execution_count": 33,
   "id": "016c1d5b",
   "metadata": {},
   "outputs": [],
   "source": [
    "# Create a new dataframe with all the teams and the total number of goals they conceded as the away team\n",
    "away_conceded = data.groupby('AwayTeam')['FTHG'].sum().reset_index().rename(columns={'AwayTeam': 'Team', 'FTHG': 'Goals Conceded'})\n",
    "\n",
    "# Create a new dataframe with all the teams and the total number of goals they conceded as the home team\n",
    "home_conceded = data.groupby('HomeTeam')['FTAG'].sum().reset_index().rename(columns={'HomeTeam': 'Team', 'FTAG': 'Goals Conceded'})\n",
    "\n",
    "# Merge the two dataframes to get the total number of goals conceded by each team\n",
    "total_conceded = pd.concat([away_conceded, home_conceded]).groupby('Team')['Goals Conceded'].sum().reset_index()\n"
   ]
  },
  {
   "cell_type": "code",
   "execution_count": 45,
   "id": "57778d55",
   "metadata": {},
   "outputs": [
    {
     "data": {
      "image/png": "[encoded data removed]",
      "text/plain": [
       "<Figure size 432x288 with 1 Axes>"
      ]
     },
     "metadata": {
      "needs_background": "light"
     },
     "output_type": "display_data"
    }
   ],
   "source": [
    "# Find the top 5 teams that conceded the most goals\n",
    "top_5_conceded = total_conceded.nlargest(5, 'Goals Conceded')\n",
    "\n",
    "# Create a horizontal bar chart to display the top 5 teams that conceded the most goals\n",
    "plt.barh(top_5_conceded['Team'], top_5_conceded['Goals Conceded'], color=['blue', 'red', 'green', 'yellow', 'pink'])\n",
    "\n",
    "# Add labels to the values on the chart\n",
    "for index, value in enumerate(top_5_conceded['Goals Conceded']):\n",
    "    plt.text(value, index, str(value), color='white', fontweight='bold')\n",
    "\n",
    "plt.xlabel('Goals Conceded')\n",
    "plt.ylabel('Team')\n",
    "plt.title('Top 5 Teams that Conceded the Most Goals in the EPL (2010-2020)')\n",
    "plt.show()"
   ]
  }
 ],
 "metadata": {
  "kernelspec": {
   "display_name": "Python 3 (ipykernel)",
   "language": "python",
   "name": "python3"
  },
  "language_info": {
   "codemirror_mode": {
    "name": "ipython",
    "version": 3
   },
   "file_extension": ".py",
   "mimetype": "text/x-python",
   "name": "python",
   "nbconvert_exporter": "python",
   "pygments_lexer": "ipython3",
   "version": "3.9.12"
  }
 },
 "nbformat": 4,
 "nbformat_minor": 5
}
